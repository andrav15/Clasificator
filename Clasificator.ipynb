{
  "cells": [
    {
      "cell_type": "markdown",
      "metadata": {
        "id": "view-in-github",
        "colab_type": "text"
      },
      "source": [
        "<a href=\"https://colab.research.google.com/github/andrav15/Clasificator/blob/main/Clasificator.ipynb\" target=\"_parent\"><img src=\"https://colab.research.google.com/assets/colab-badge.svg\" alt=\"Open In Colab\"/></a>"
      ]
    },
    {
      "cell_type": "code",
      "execution_count": 2,
      "metadata": {
        "id": "5pdZDiP38YVs"
      },
      "outputs": [],
      "source": [
        "import torch\n",
        "import torchvision #pentru seturi de date de imagine\n",
        "import torchvision.transforms as transforms #pentru diferite transformari pe imagine"
      ]
    },
    {
      "cell_type": "code",
      "execution_count": 3,
      "metadata": {
        "colab": {
          "base_uri": "https://localhost:8080/"
        },
        "id": "LbNefxZL8ewd",
        "outputId": "751270f9-c2cb-4dc2-ac2c-0c5a4fccf013"
      },
      "outputs": [
        {
          "output_type": "stream",
          "name": "stdout",
          "text": [
            "Downloading https://www.cs.toronto.edu/~kriz/cifar-10-python.tar.gz to ./data/cifar-10-python.tar.gz\n"
          ]
        },
        {
          "output_type": "stream",
          "name": "stderr",
          "text": [
            "100%|██████████| 170M/170M [00:02<00:00, 57.4MB/s]\n"
          ]
        },
        {
          "output_type": "stream",
          "name": "stdout",
          "text": [
            "Extracting ./data/cifar-10-python.tar.gz to ./data\n",
            "Files already downloaded and verified\n"
          ]
        }
      ],
      "source": [
        "transform = transforms.Compose(\n",
        "    [transforms.ToTensor(),\n",
        "     transforms.Normalize((0.5, 0.5, 0.5), (0.5, 0.5, 0.5))])\n",
        "#Compose combina o serie de transformari intr-una singura;toate transf vor fi aplicate in ordinea enumerata\n",
        "#ToTensor numpy->tensor pytorch\n",
        "#Normalize normalizeaza tensorii: prima tupla:media pe R,G,B, a 2-a:deviatia standard\n",
        "batch_size = 4#modelul va procesa cate 4 imag in acelasi timp\n",
        "\n",
        "trainset = torchvision.datasets.CIFAR10(root='./data', train=True,\n",
        "                                        download=True, transform=transform)\n",
        "#incarca setul de date specif directorul si aplic transf definite mai sus pe fiecare imag\n",
        "trainloader = torch.utils.data.DataLoader(trainset, batch_size=batch_size,\n",
        "                                          shuffle=True, num_workers=2)\n",
        "#DataLoader care permite sa iteram prin set; num_workers=nr de procese folosite pt a incarca date\n",
        "\n",
        "testset = torchvision.datasets.CIFAR10(root='./data', train=False,\n",
        "                                       download=True, transform=transform)\n",
        "testloader = torch.utils.data.DataLoader(testset, batch_size=batch_size,\n",
        "                                         shuffle=False, num_workers=2)\n",
        "\n",
        "classes = ('plane', 'car', 'bird', 'cat',\n",
        "           'deer', 'dog', 'frog', 'horse', 'ship', 'truck')\n",
        "#denumirile claselor din set-etichetele"
      ]
    },
    {
      "cell_type": "code",
      "execution_count": 4,
      "metadata": {
        "colab": {
          "base_uri": "https://localhost:8080/",
          "height": 210
        },
        "id": "Cnb5PTvo8hON",
        "outputId": "1a8ab651-8fde-4116-e968-473c26860ec9"
      },
      "outputs": [
        {
          "output_type": "display_data",
          "data": {
            "text/plain": [
              "<Figure size 640x480 with 1 Axes>"
            ],
            "image/png": "[encoded data removed]"
          },
          "metadata": {}
        },
        {
          "output_type": "stream",
          "name": "stdout",
          "text": [
            "cat   bird  plane frog \n"
          ]
        }
      ],
      "source": [
        "import matplotlib.pyplot as plt#pt grafice\n",
        "import numpy as np\n",
        "\n",
        "# functions to show an image\n",
        "\n",
        "\n",
        "def imshow(img):\n",
        "    img = img / 2 + 0.5 #mai sus am normalizat-o acum revenim la original pt a fi afisate corect\n",
        "    npimg = img.numpy() #convertim tensorul in numpy pt a folosi fct matplotlib\n",
        "    plt.imshow(np.transpose(npimg, (1, 2, 0))) #afisam imag si schimbam ordinea CHW->HWC, C=nr de canale RGB, H=inaltimea,W=latimea\n",
        "    plt.show() #afisare\n",
        "\n",
        "\n",
        "# get some random training images\n",
        "dataiter = iter(trainloader)#pt a accesa loturi de imag si etichete\n",
        "images, labels = next(dataiter) #images-tensori,labels-etichetele\n",
        "\n",
        "# show images\n",
        "imshow(torchvision.utils.make_grid(images))#combina mai multe imag intr-una pt a fi afisate mai usor\n",
        "# print labels\n",
        "print(' '.join(f'{classes[labels[j]]:5s}' for j in range(batch_size)))#formam un sir de caractere care contine denumirile claselor;\n",
        "#fiecare cls va ocupa un spatiu de 5 caractere pt aliniere"
      ]
    },
    {
      "cell_type": "code",
      "execution_count": 5,
      "metadata": {
        "id": "Z5vZvfp5AknB"
      },
      "outputs": [],
      "source": [
        "import torch.nn as nn #nn un submodul pt retele neuronale predefinite\n",
        "import torch.nn.functional as F #fct aplicate in mod functional la tensori\n",
        "\n",
        "\n",
        "class Net(nn.Module):\n",
        "    def __init__(self): #metoda constructor\n",
        "        super().__init__()#apeleaza constr clasei parinte\n",
        "        self.conv1 = nn.Conv2d(3, 6, 5)#primul strat convolutional: 3 canale RGB, 6 filtre, kernel 5x5\n",
        "        self.pool = nn.MaxPool2d(2, 2)#strat max pooling:reduce dim imag: kernel 2x2, pasul 2 cu care se aplica pooling->2pixeli\n",
        "        self.conv2 = nn.Conv2d(6, 16, 5)#strat conv 2: 6 canale RGB, 16 filtre, kernel 5x5\n",
        "        self.fc1 = nn.Linear(16 * 5 * 5, 120)#primul strat fully connected\n",
        "        #16*5*5 nr de neuroni de intrare->16 filtr fiecare cu dim 5x5 de mai sus\n",
        "        #120 nr de neuroni out\n",
        "        self.fc2 = nn.Linear(120, 84)#al doilea strat fully connected: 120 neuroni in si 84 out\n",
        "        self.fc3 = nn.Linear(84, 10)#ultimul fully connected: 84 in si 10 out->10 clase\n",
        "\n",
        "    def forward(self, x):#o apelam mereu cand exista o predictie\n",
        "        x = self.pool(F.relu(self.conv1(x)))#aplicam stratul conv la inputul x, urmat de fct relu si max pooling->extragere caract\n",
        "        x = self.pool(F.relu(self.conv2(x))) #similar\n",
        "        x = torch.flatten(x, 1) #aplatizam tensorul x 2D->1D, batch 1 adica vrem sa pastram dim initiala\n",
        "        x = F.relu(self.fc1(x))#apl primul strat fully connected urmat de relu\n",
        "        x = F.relu(self.fc2(x))\n",
        "        x = self.fc3(x)#produce iesirile pt cele 10 cls, nu aplicam relu pt ca vrem scoruri brute\n",
        "        return x\n",
        "\n",
        "\n",
        "net = Net()"
      ]
    },
    {
      "cell_type": "code",
      "execution_count": 6,
      "metadata": {
        "id": "nxwFJvGtCkVU"
      },
      "outputs": [],
      "source": [
        "import torch.optim as optim\n",
        "\n",
        "criterion = nn.CrossEntropyLoss() #fct de pierdere:penalizeaza modelul si-l ajuta sa invete mai eficient\n",
        "optimizer = optim.SGD(net.parameters(), lr=0.001, momentum=0.9)\n",
        "#SGD=Stochastic Gradient Descent\n",
        "#preia param si le actualizeaza in timpul antrenarii\n",
        "#lr learning rate:cat de mult sa fie ajustate greutatile la fiecare pas(lr prea mare->divergenta, lr prea mic->converge lent)\n",
        "#momentum accelereaza procesul unde gradientul este cst"
      ]
    },
    {
      "cell_type": "code",
      "execution_count": 7,
      "metadata": {
        "colab": {
          "base_uri": "https://localhost:8080/"
        },
        "id": "D1WTnBXTDVAK",
        "outputId": "66f77461-49c2-4f58-a20f-27f47186b5f3"
      },
      "outputs": [
        {
          "output_type": "stream",
          "name": "stdout",
          "text": [
            "[1,  2000] loss: 2.232\n",
            "[1,  4000] loss: 1.854\n",
            "[1,  6000] loss: 1.679\n",
            "[1,  8000] loss: 1.575\n",
            "[1, 10000] loss: 1.515\n",
            "[1, 12000] loss: 1.483\n",
            "[2,  2000] loss: 1.383\n",
            "[2,  4000] loss: 1.373\n",
            "[2,  6000] loss: 1.340\n",
            "[2,  8000] loss: 1.305\n",
            "[2, 10000] loss: 1.312\n",
            "[2, 12000] loss: 1.287\n",
            "Finished Training\n"
          ]
        }
      ],
      "source": [
        "for epoch in range(2):  # 2 epoci. o epoca=o completare a trecerii prin intregul set\n",
        "\n",
        "    running_loss = 0.0#pt calcularea mediei pierderii\n",
        "    for i, data in enumerate(trainloader, 0):\n",
        "        # get the inputs; data is a list of [inputs, labels]\n",
        "        inputs, labels = data#inputs-imag, labels-etichete\n",
        "\n",
        "        # zero the parameter gradients\n",
        "        optimizer.zero_grad()#fara linia asta gradientele s-ar acumula in fiecare iteratie->actualizari gresite\n",
        "\n",
        "        # forward + backward + optimize\n",
        "        outputs = net(inputs)\n",
        "        loss = criterion(outputs, labels)#compara outputs cu etichetele si returneaza loss\n",
        "        loss.backward()#propagarea inapoi pt a calcula gradientele pierderii\n",
        "        optimizer.step()\n",
        "\n",
        "        # print statistics\n",
        "        running_loss += loss.item()#add val pierderii curente  si item extrage val in tensor\n",
        "        if i % 2000 == 1999:    # print every 2000 mini-batches\n",
        "            print(f'[{epoch + 1}, {i + 1:5d}] loss: {running_loss / 2000:.3f}')\n",
        "            running_loss = 0.0\n",
        "\n",
        "print('Finished Training')"
      ]
    },
    {
      "cell_type": "code",
      "execution_count": 8,
      "metadata": {
        "id": "-PUxIse6EaUD"
      },
      "outputs": [],
      "source": [
        "PATH = './cifar_net.pth'\n",
        "torch.save(net.state_dict(), PATH)#return dictionar cu greutati si bias"
      ]
    },
    {
      "cell_type": "code",
      "execution_count": 9,
      "metadata": {
        "id": "gAlMxPdkEoct",
        "colab": {
          "base_uri": "https://localhost:8080/",
          "height": 210
        },
        "outputId": "83dfb7a7-e5e9-4e2a-99e4-bcc27e1d3011"
      },
      "outputs": [
        {
          "output_type": "display_data",
          "data": {
            "text/plain": [
              "<Figure size 640x480 with 1 Axes>"
            ],
            "image/png": "[encoded data removed]"
          },
          "metadata": {}
        },
        {
          "output_type": "stream",
          "name": "stdout",
          "text": [
            "GroundTruth:  cat   ship  ship  plane\n"
          ]
        }
      ],
      "source": [
        "dataiter = iter(testloader)# permite iteratia prin set\n",
        "images, labels = next(dataiter)\n",
        "\n",
        "# print images\n",
        "imshow(torchvision.utils.make_grid(images))\n",
        "# fct combina mai multe imag din images intr-o sg matrice pt a fi afisata mai usor\n",
        "print('GroundTruth: ', ' '.join(f'{classes[labels[j]]:5s}' for j in range(4)))"
      ]
    },
    {
      "cell_type": "code",
      "source": [
        "net = Net()#o noua instanta a clasei Net\n",
        "net.load_state_dict(torch.load(PATH, weights_only=True))#incarca greutatile care au fost salvate anterior"
      ],
      "metadata": {
        "colab": {
          "base_uri": "https://localhost:8080/"
        },
        "id": "0G52MwfTB8in",
        "outputId": "7c96956d-9ef2-40e8-c978-7e70882cc622"
      },
      "execution_count": 11,
      "outputs": [
        {
          "output_type": "execute_result",
          "data": {
            "text/plain": [
              "<All keys matched successfully>"
            ]
          },
          "metadata": {},
          "execution_count": 11
        }
      ]
    },
    {
      "cell_type": "code",
      "source": [
        "outputs = net(images)#trece imag prin model pt predictii->propagare inainte"
      ],
      "metadata": {
        "id": "AUeAxGaxCUiS"
      },
      "execution_count": 12,
      "outputs": []
    },
    {
      "cell_type": "code",
      "source": [
        "_, predicted = torch.max(outputs, 1)#gaseste val max si indicii coresp de-a lungul dim=1\n",
        "#predicted=indicele cls cu scorul max pt fiecare imag->cls prezisa de retea\n",
        "\n",
        "print('Predicted: ', ' '.join(f'{classes[predicted[j]]:5s}'\n",
        "                              for j in range(4)))#afisarea predicitiilor"
      ],
      "metadata": {
        "colab": {
          "base_uri": "https://localhost:8080/"
        },
        "id": "NmWaxP_iCoT9",
        "outputId": "7e9cb2f3-a61f-41b0-d72f-0c8ac94718fb"
      },
      "execution_count": 13,
      "outputs": [
        {
          "output_type": "stream",
          "name": "stdout",
          "text": [
            "Predicted:  cat   ship  ship  ship \n"
          ]
        }
      ]
    },
    {
      "cell_type": "code",
      "source": [
        "correct = 0#cate predictii corecte face modelul\n",
        "total = 0#nr total de imag\n",
        "# since we're not training, we don't need to calculate the gradients for our outputs\n",
        "with torch.no_grad():#dezactiveaza calculul grad->reduce consumul de mem\n",
        "    for data in testloader:#iteram prin intregul set de date.fiecare el contine un mini-lot de imag+etichetele lor\n",
        "        images, labels = data\n",
        "        # calculate outputs by running images through the network\n",
        "        outputs = net(images)#propagarea inainte->obtine predictii brute\n",
        "        # the class with the highest energy is what we choose as prediction\n",
        "        _, predicted = torch.max(outputs.data, 1)#cls cu val cea mai mare pt fiecare imag\n",
        "        total += labels.size(0)#actualizam variabila total cu nr de imag curente\n",
        "        correct += (predicted == labels).sum().item()#comparam predictiile cu etichetele reale.\n",
        "        #predicted==labels->true sau false->sum aduna toate val true->adaugat in correct\n",
        "\n",
        "print(f'Accuracy of the network on the 10000 test images: {100 * correct // total} %')\n",
        "#calc procentajul de imag clasificate corect"
      ],
      "metadata": {
        "colab": {
          "base_uri": "https://localhost:8080/"
        },
        "id": "p3YH49Z3DNQ1",
        "outputId": "7f2043f8-1718-43ac-986e-bf0a72cae93e"
      },
      "execution_count": 14,
      "outputs": [
        {
          "output_type": "stream",
          "name": "stdout",
          "text": [
            "Accuracy of the network on the 10000 test images: 54 %\n"
          ]
        }
      ]
    },
    {
      "cell_type": "code",
      "source": [
        "# prepare to count predictions for each class\n",
        "correct_pred = {classname: 0 for classname in classes}#dict cu nr de predictii corecte.fiecare cls se initializeaza cu 0\n",
        "total_pred = {classname: 0 for classname in classes}\n",
        "\n",
        "# again no gradients needed\n",
        "with torch.no_grad():#dezactivarea calculului gradientului pt ca nu mai antrenam\n",
        "    for data in testloader:\n",
        "        images, labels = data\n",
        "        outputs = net(images)\n",
        "        _, predictions = torch.max(outputs, 1)\n",
        "        # collect the correct predictions for each class\n",
        "        for label, prediction in zip(labels, predictions):#combina etichetele realie si predictiile in perechi pt iterare simultana\n",
        "            if label == prediction:\n",
        "                correct_pred[classes[label]] += 1\n",
        "            total_pred[classes[label]] += 1#chiar daca predictia nu e corecta o adaugam in total\n",
        "\n",
        "\n",
        "# print accuracy for each class\n",
        "for classname, correct_count in correct_pred.items():\n",
        "    accuracy = 100 * float(correct_count) / total_pred[classname]\n",
        "    print(f'Accuracy for class: {classname:5s} is {accuracy:.1f} %')"
      ],
      "metadata": {
        "colab": {
          "base_uri": "https://localhost:8080/"
        },
        "id": "5sixxvO3ELOO",
        "outputId": "0bf8e8cd-348e-4218-c0d8-4bfd32cfa22e"
      },
      "execution_count": 15,
      "outputs": [
        {
          "output_type": "stream",
          "name": "stdout",
          "text": [
            "Accuracy for class: plane is 49.6 %\n",
            "Accuracy for class: car   is 61.2 %\n",
            "Accuracy for class: bird  is 25.4 %\n",
            "Accuracy for class: cat   is 30.3 %\n",
            "Accuracy for class: deer  is 45.7 %\n",
            "Accuracy for class: dog   is 62.0 %\n",
            "Accuracy for class: frog  is 61.6 %\n",
            "Accuracy for class: horse is 66.7 %\n",
            "Accuracy for class: ship  is 72.5 %\n",
            "Accuracy for class: truck is 68.2 %\n"
          ]
        }
      ]
    },
    {
      "cell_type": "code",
      "source": [
        "device = torch.device('cuda:0' if torch.cuda.is_available() else 'cpu')\n",
        "#verif aca exista un GPU compatibil cu CUDA\n",
        "#daca exista->True->device='cuda=0'->primul disp GPU\n",
        "#daca nu exista->False->device='cpu'->va rula pe procesor\n",
        "\n",
        "# Assuming that we are on a CUDA machine, this should print a CUDA device:\n",
        "\n",
        "print(device)"
      ],
      "metadata": {
        "colab": {
          "base_uri": "https://localhost:8080/"
        },
        "id": "SqFPibBDFDpo",
        "outputId": "5d2d20c6-afd3-4731-fda8-6718e960539f"
      },
      "execution_count": 16,
      "outputs": [
        {
          "output_type": "stream",
          "name": "stdout",
          "text": [
            "cpu\n"
          ]
        }
      ]
    },
    {
      "cell_type": "code",
      "source": [
        "net.to(device)"
      ],
      "metadata": {
        "colab": {
          "base_uri": "https://localhost:8080/"
        },
        "id": "KYrKGiUOFo_a",
        "outputId": "f78b9313-dc0c-4dc8-c44e-d944f8807251"
      },
      "execution_count": 17,
      "outputs": [
        {
          "output_type": "execute_result",
          "data": {
            "text/plain": [
              "Net(\n",
              "  (conv1): Conv2d(3, 6, kernel_size=(5, 5), stride=(1, 1))\n",
              "  (pool): MaxPool2d(kernel_size=2, stride=2, padding=0, dilation=1, ceil_mode=False)\n",
              "  (conv2): Conv2d(6, 16, kernel_size=(5, 5), stride=(1, 1))\n",
              "  (fc1): Linear(in_features=400, out_features=120, bias=True)\n",
              "  (fc2): Linear(in_features=120, out_features=84, bias=True)\n",
              "  (fc3): Linear(in_features=84, out_features=10, bias=True)\n",
              ")"
            ]
          },
          "metadata": {},
          "execution_count": 17
        }
      ]
    },
    {
      "cell_type": "code",
      "source": [
        "inputs, labels = data[0].to(device), data[1].to(device)"
      ],
      "metadata": {
        "id": "-hKYgt6rFtW6"
      },
      "execution_count": 18,
      "outputs": []
    }
  ],
  "metadata": {
    "colab": {
      "provenance": [],
      "authorship_tag": "ABX9TyONjajbHeWaKw25fL96AMFh",
      "include_colab_link": true
    },
    "kernelspec": {
      "display_name": "Python 3",
      "name": "python3"
    },
    "language_info": {
      "name": "python"
    }
  },
  "nbformat": 4,
  "nbformat_minor": 0
}